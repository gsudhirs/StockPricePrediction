{
 "cells": [
  {
   "cell_type": "code",
   "execution_count": 1,
   "id": "bb88db96",
   "metadata": {},
   "outputs": [
    {
     "name": "stdout",
     "output_type": "stream",
     "text": [
      "(252, 1)\n"
     ]
    }
   ],
   "source": [
    "import os \n",
    "import numpy as np\n",
    "import pandas as pd\n",
    "import matplotlib.pyplot as plt\n",
    "import tensorflow\n",
    "%matplotlib inline\n",
    "\n",
    "dataset_train = pd.read_csv(\"AAPL21-22.csv\", header = 0, sep = \",\")\n",
    "dataset_train.head()\n",
    "\n",
    "training_set = dataset_train.iloc[:,1:2].values\n",
    "#print(training_set)\n",
    "print(training_set.shape)\n"
   ]
  },
  {
   "cell_type": "code",
   "execution_count": 2,
   "id": "d0c2f901",
   "metadata": {},
   "outputs": [
    {
     "name": "stdout",
     "output_type": "stream",
     "text": [
      "(176, 76, 1)\n"
     ]
    }
   ],
   "source": [
    "from sklearn.preprocessing import MinMaxScaler\n",
    "scaler = MinMaxScaler(feature_range = (0,1))\n",
    "scaled_training_set = scaler.fit_transform(training_set)\n",
    "\n",
    "X_train = []\n",
    "Y_train = []\n",
    "for i in range(76, 252):\n",
    "    X_train.append(scaled_training_set[i-76:i, 0])\n",
    "    Y_train.append(scaled_training_set[i, 0])\n",
    "X_train = np.array(X_train)\n",
    "Y_train = np.array(Y_train)\n",
    "X_train = np.reshape(X_train,(X_train.shape[0], X_train.shape[1], 1))\n",
    "print(X_train.shape)"
   ]
  },
  {
   "cell_type": "code",
   "execution_count": 3,
   "id": "a8bb783d",
   "metadata": {
    "scrolled": true
   },
   "outputs": [],
   "source": [
    "from keras.models import Sequential\n",
    "from keras.layers import LSTM\n",
    "from keras.layers import Dense\n",
    "from keras.layers import Dropout\n",
    "\n",
    "regressor = Sequential()\n",
    "\n",
    "regressor.add(LSTM(units = 50, return_sequences = True, input_shape = (X_train.shape[1], 1)))\n",
    "regressor.add(Dropout(0.2))\n",
    "\n",
    "regressor.add(LSTM(units = 50, return_sequences = True))\n",
    "regressor.add(Dropout(0.2))\n",
    "\n",
    "regressor.add(LSTM(units = 50, return_sequences = True))\n",
    "regressor.add(Dropout(0.2))\n",
    "\n",
    "regressor.add(LSTM(units = 50))\n",
    "regressor.add(Dropout(0.2))\n",
    "\n",
    "regressor.add(Dense(units=1))"
   ]
  },
  {
   "cell_type": "code",
   "execution_count": 4,
   "id": "e78ae6dd",
   "metadata": {},
   "outputs": [
    {
     "name": "stdout",
     "output_type": "stream",
     "text": [
      "Epoch 1/50\n",
      "6/6 [==============================] - 6s 109ms/step - loss: 0.0398\n",
      "Epoch 2/50\n",
      "6/6 [==============================] - 1s 137ms/step - loss: 0.0183\n",
      "Epoch 3/50\n",
      "6/6 [==============================] - 1s 155ms/step - loss: 0.0163\n",
      "Epoch 4/50\n",
      "6/6 [==============================] - 1s 100ms/step - loss: 0.0141\n",
      "Epoch 5/50\n",
      "6/6 [==============================] - 1s 88ms/step - loss: 0.0123\n",
      "Epoch 6/50\n",
      "6/6 [==============================] - 1s 80ms/step - loss: 0.0118\n",
      "Epoch 7/50\n",
      "6/6 [==============================] - 1s 86ms/step - loss: 0.0104\n",
      "Epoch 8/50\n",
      "6/6 [==============================] - 1s 96ms/step - loss: 0.0103\n",
      "Epoch 9/50\n",
      "6/6 [==============================] - 1s 107ms/step - loss: 0.0099\n",
      "Epoch 10/50\n",
      "6/6 [==============================] - 1s 116ms/step - loss: 0.0095\n",
      "Epoch 11/50\n",
      "6/6 [==============================] - 1s 98ms/step - loss: 0.0090\n",
      "Epoch 12/50\n",
      "6/6 [==============================] - 1s 109ms/step - loss: 0.0093\n",
      "Epoch 13/50\n",
      "6/6 [==============================] - 1s 124ms/step - loss: 0.0075\n",
      "Epoch 14/50\n",
      "6/6 [==============================] - 1s 124ms/step - loss: 0.0077\n",
      "Epoch 15/50\n",
      "6/6 [==============================] - 1s 102ms/step - loss: 0.0072\n",
      "Epoch 16/50\n",
      "6/6 [==============================] - 1s 106ms/step - loss: 0.0077\n",
      "Epoch 17/50\n",
      "6/6 [==============================] - 1s 116ms/step - loss: 0.0068\n",
      "Epoch 18/50\n",
      "6/6 [==============================] - 1s 123ms/step - loss: 0.0068\n",
      "Epoch 19/50\n",
      "6/6 [==============================] - 1s 93ms/step - loss: 0.0068\n",
      "Epoch 20/50\n",
      "6/6 [==============================] - 1s 118ms/step - loss: 0.0058\n",
      "Epoch 21/50\n",
      "6/6 [==============================] - 1s 123ms/step - loss: 0.0058\n",
      "Epoch 22/50\n",
      "6/6 [==============================] - 1s 123ms/step - loss: 0.0061\n",
      "Epoch 23/50\n",
      "6/6 [==============================] - 1s 105ms/step - loss: 0.0049\n",
      "Epoch 24/50\n",
      "6/6 [==============================] - 1s 128ms/step - loss: 0.0051\n",
      "Epoch 25/50\n",
      "6/6 [==============================] - 1s 123ms/step - loss: 0.0051\n",
      "Epoch 26/50\n",
      "6/6 [==============================] - 1s 115ms/step - loss: 0.0055\n",
      "Epoch 27/50\n",
      "6/6 [==============================] - 1s 113ms/step - loss: 0.0051\n",
      "Epoch 28/50\n",
      "6/6 [==============================] - 1s 109ms/step - loss: 0.0056\n",
      "Epoch 29/50\n",
      "6/6 [==============================] - 1s 102ms/step - loss: 0.0053\n",
      "Epoch 30/50\n",
      "6/6 [==============================] - 1s 93ms/step - loss: 0.0054\n",
      "Epoch 31/50\n",
      "6/6 [==============================] - 1s 110ms/step - loss: 0.0048\n",
      "Epoch 32/50\n",
      "6/6 [==============================] - 1s 125ms/step - loss: 0.0052\n",
      "Epoch 33/50\n",
      "6/6 [==============================] - 1s 121ms/step - loss: 0.0047\n",
      "Epoch 34/50\n",
      "6/6 [==============================] - 1s 152ms/step - loss: 0.0051\n",
      "Epoch 35/50\n",
      "6/6 [==============================] - 1s 97ms/step - loss: 0.0049\n",
      "Epoch 36/50\n",
      "6/6 [==============================] - 1s 107ms/step - loss: 0.0062\n",
      "Epoch 37/50\n",
      "6/6 [==============================] - 1s 107ms/step - loss: 0.0049\n",
      "Epoch 38/50\n",
      "6/6 [==============================] - 1s 125ms/step - loss: 0.0056\n",
      "Epoch 39/50\n",
      "6/6 [==============================] - 1s 113ms/step - loss: 0.0054\n",
      "Epoch 40/50\n",
      "6/6 [==============================] - 1s 108ms/step - loss: 0.0047\n",
      "Epoch 41/50\n",
      "6/6 [==============================] - 1s 143ms/step - loss: 0.0049\n",
      "Epoch 42/50\n",
      "6/6 [==============================] - 1s 148ms/step - loss: 0.0050\n",
      "Epoch 43/50\n",
      "6/6 [==============================] - 1s 147ms/step - loss: 0.0038\n",
      "Epoch 44/50\n",
      "6/6 [==============================] - 1s 120ms/step - loss: 0.0041\n",
      "Epoch 45/50\n",
      "6/6 [==============================] - 1s 118ms/step - loss: 0.0040\n",
      "Epoch 46/50\n",
      "6/6 [==============================] - 1s 103ms/step - loss: 0.0047\n",
      "Epoch 47/50\n",
      "6/6 [==============================] - 1s 97ms/step - loss: 0.0042\n",
      "Epoch 48/50\n",
      "6/6 [==============================] - 1s 103ms/step - loss: 0.0044\n",
      "Epoch 49/50\n",
      "6/6 [==============================] - 1s 96ms/step - loss: 0.0043\n",
      "Epoch 50/50\n",
      "6/6 [==============================] - 1s 99ms/step - loss: 0.0040\n"
     ]
    },
    {
     "data": {
      "text/plain": [
       "<keras.callbacks.History at 0x1658dad21f0>"
      ]
     },
     "execution_count": 4,
     "metadata": {},
     "output_type": "execute_result"
    }
   ],
   "source": [
    "regressor.compile(optimizer = 'adam', loss = 'mean_squared_error')\n",
    "regressor.fit(X_train, Y_train, epochs = 50, batch_size = 32)\n"
   ]
  },
  {
   "cell_type": "code",
   "execution_count": 5,
   "id": "8cb913bf",
   "metadata": {
    "scrolled": true
   },
   "outputs": [
    {
     "name": "stdout",
     "output_type": "stream",
     "text": [
      "0      178.085\n",
      "1      179.470\n",
      "2      179.330\n",
      "3      180.160\n",
      "4      177.085\n",
      "        ...   \n",
      "247    132.430\n",
      "248    128.360\n",
      "249    127.720\n",
      "250    128.890\n",
      "251    133.520\n",
      "Name:  Open, Length: 252, dtype: float64\n"
     ]
    }
   ],
   "source": [
    "dataset_test = pd.read_csv(\"AAPL21-22.csv\", header = 0, sep = \",\")\n",
    "print(dataset_test[' Open'])\n",
    "actual_stock_price = dataset_test.iloc[:,1:2].values\n",
    "dataset_total = pd.concat((dataset_train[' Open'], dataset_test[' Open']), axis = 0)\n",
    "inputs = dataset_total[len(dataset_total) - len(dataset_test)-76:].values\n",
    "\n",
    "inputs = inputs.reshape(-1,1)\n",
    "scaler.clip = False  # add this line\n",
    "inputs = scaler.transform(inputs)\n",
    "\n",
    "X_test = []\n",
    "for i in range(76, 252):\n",
    "    X_test.append(inputs[i-76:i, 0])\n",
    "X_test = np.array(X_test)\n",
    "X_test = np.reshape(X_test, (X_test.shape[0], X_test.shape[1], 1))"
   ]
  },
  {
   "cell_type": "code",
   "execution_count": 6,
   "id": "2e276561",
   "metadata": {},
   "outputs": [
    {
     "name": "stdout",
     "output_type": "stream",
     "text": [
      "6/6 [==============================] - 1s 44ms/step\n",
      "(176, 1)\n",
      "(252, 1)\n"
     ]
    }
   ],
   "source": [
    "predicted_stock_price = regressor.predict(X_test)\n",
    "predicted_stock_price = scaler.inverse_transform(predicted_stock_price)\n",
    "print(predicted_stock_price.shape)\n",
    "print(actual_stock_price.shape)"
   ]
  },
  {
   "cell_type": "code",
   "execution_count": 7,
   "id": "13eb3f79",
   "metadata": {},
   "outputs": [
    {
     "data": {
      "text/plain": [
       "<matplotlib.legend.Legend at 0x1659982ad90>"
      ]
     },
     "execution_count": 7,
     "metadata": {},
     "output_type": "execute_result"
    },
    {
     "data": {
      "image/png": "[encoded data removed]",
      "text/plain": [
       "<Figure size 640x480 with 1 Axes>"
      ]
     },
     "metadata": {},
     "output_type": "display_data"
    }
   ],
   "source": [
    "plt.plot(actual_stock_price, color = 'red', label = 'Actual AAPL Stock Price')\n",
    "plt.plot(predicted_stock_price, color = 'blue', label = 'Predicted AAPL Stock Price')\n",
    "plt.title('AAPL Stock Price Prediction')\n",
    "plt.xlabel('Time')\n",
    "plt.ylabel('AAPL Stock Price')\n",
    "plt.legend()"
   ]
  }
 ],
 "metadata": {
  "kernelspec": {
   "display_name": "Python 3 (ipykernel)",
   "language": "python",
   "name": "python3"
  },
  "language_info": {
   "codemirror_mode": {
    "name": "ipython",
    "version": 3
   },
   "file_extension": ".py",
   "mimetype": "text/x-python",
   "name": "python",
   "nbconvert_exporter": "python",
   "pygments_lexer": "ipython3",
   "version": "3.8.5"
  }
 },
 "nbformat": 4,
 "nbformat_minor": 5
}
