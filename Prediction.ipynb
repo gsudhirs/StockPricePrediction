{
 "cells": [
  {
   "cell_type": "code",
   "execution_count": 1,
   "id": "bb88db96",
   "metadata": {},
   "outputs": [
    {
     "name": "stdout",
     "output_type": "stream",
     "text": [
      "(252, 1)\n"
     ]
    }
   ],
   "source": [
    "import os \n",
    "import numpy as np\n",
    "import pandas as pd\n",
    "import matplotlib.pyplot as plt\n",
    "import tensorflow\n",
    "%matplotlib inline\n",
    "\n",
    "dataset_train = pd.read_csv(\"AAPL21-22.csv\", header = 0, sep = \",\")\n",
    "dataset_train.head()\n",
    "\n",
    "training_set = dataset_train.iloc[:,1:2].values\n",
    "#print(training_set)\n",
    "print(training_set.shape)\n"
   ]
  },
  {
   "cell_type": "code",
   "execution_count": 2,
   "id": "d0c2f901",
   "metadata": {},
   "outputs": [
    {
     "name": "stdout",
     "output_type": "stream",
     "text": [
      "(176, 76, 1)\n"
     ]
    }
   ],
   "source": [
    "from sklearn.preprocessing import MinMaxScaler\n",
    "scaler = MinMaxScaler(feature_range = (0,1))\n",
    "scaled_training_set = scaler.fit_transform(training_set)\n",
    "\n",
    "X_train = []\n",
    "Y_train = []\n",
    "for i in range(76, 252):\n",
    "    X_train.append(scaled_training_set[i-76:i, 0])\n",
    "    Y_train.append(scaled_training_set[i, 0])\n",
    "X_train = np.array(X_train)\n",
    "Y_train = np.array(Y_train)\n",
    "X_train = np.reshape(X_train,(X_train.shape[0], X_train.shape[1], 1))\n",
    "print(X_train.shape)"
   ]
  },
  {
   "cell_type": "code",
   "execution_count": 3,
   "id": "a8bb783d",
   "metadata": {
    "scrolled": true
   },
   "outputs": [],
   "source": [
    "from keras.models import Sequential\n",
    "from keras.layers import LSTM\n",
    "from keras.layers import Dense\n",
    "from keras.layers import Dropout\n",
    "\n",
    "regressor = Sequential()\n",
    "\n",
    "regressor.add(LSTM(units = 50, return_sequences = True, input_shape = (X_train.shape[1], 1)))\n",
    "regressor.add(Dropout(0.2))\n",
    "\n",
    "regressor.add(LSTM(units = 50, return_sequences = True))\n",
    "regressor.add(Dropout(0.2))\n",
    "\n",
    "regressor.add(LSTM(units = 50, return_sequences = True))\n",
    "regressor.add(Dropout(0.2))\n",
    "\n",
    "regressor.add(LSTM(units = 50))\n",
    "regressor.add(Dropout(0.2))\n",
    "\n",
    "regressor.add(Dense(units=1))"
   ]
  },
  {
   "cell_type": "code",
   "execution_count": 4,
   "id": "e78ae6dd",
   "metadata": {},
   "outputs": [
    {
     "name": "stdout",
     "output_type": "stream",
     "text": [
      "Epoch 1/50\n",
      "6/6 [==============================] - 13s 217ms/step - loss: 0.0403\n",
      "Epoch 2/50\n",
      "6/6 [==============================] - 1s 212ms/step - loss: 0.0216\n",
      "Epoch 3/50\n",
      "6/6 [==============================] - 1s 184ms/step - loss: 0.0227\n",
      "Epoch 4/50\n",
      "6/6 [==============================] - 1s 192ms/step - loss: 0.0155\n",
      "Epoch 5/50\n",
      "6/6 [==============================] - 1s 186ms/step - loss: 0.0138\n",
      "Epoch 6/50\n",
      "6/6 [==============================] - 1s 181ms/step - loss: 0.0125\n",
      "Epoch 7/50\n",
      "6/6 [==============================] - 1s 159ms/step - loss: 0.0120\n",
      "Epoch 8/50\n",
      "6/6 [==============================] - 1s 188ms/step - loss: 0.0121\n",
      "Epoch 9/50\n",
      "6/6 [==============================] - 1s 189ms/step - loss: 0.0108\n",
      "Epoch 10/50\n",
      "6/6 [==============================] - 1s 170ms/step - loss: 0.0119\n",
      "Epoch 11/50\n",
      "6/6 [==============================] - 1s 170ms/step - loss: 0.0111\n",
      "Epoch 12/50\n",
      "6/6 [==============================] - 1s 192ms/step - loss: 0.0091\n",
      "Epoch 13/50\n",
      "6/6 [==============================] - 1s 192ms/step - loss: 0.0093\n",
      "Epoch 14/50\n",
      "6/6 [==============================] - 1s 197ms/step - loss: 0.0098\n",
      "Epoch 15/50\n",
      "6/6 [==============================] - 1s 190ms/step - loss: 0.0087\n",
      "Epoch 16/50\n",
      "6/6 [==============================] - 1s 201ms/step - loss: 0.0087\n",
      "Epoch 17/50\n",
      "6/6 [==============================] - 1s 176ms/step - loss: 0.0082\n",
      "Epoch 18/50\n",
      "6/6 [==============================] - 1s 194ms/step - loss: 0.0085\n",
      "Epoch 19/50\n",
      "6/6 [==============================] - 1s 192ms/step - loss: 0.0066\n",
      "Epoch 20/50\n",
      "6/6 [==============================] - 1s 195ms/step - loss: 0.0071\n",
      "Epoch 21/50\n",
      "6/6 [==============================] - 1s 169ms/step - loss: 0.0063\n",
      "Epoch 22/50\n",
      "6/6 [==============================] - 1s 200ms/step - loss: 0.0062\n",
      "Epoch 23/50\n",
      "6/6 [==============================] - 1s 182ms/step - loss: 0.0060\n",
      "Epoch 24/50\n",
      "6/6 [==============================] - 1s 184ms/step - loss: 0.0060\n",
      "Epoch 25/50\n",
      "6/6 [==============================] - 1s 185ms/step - loss: 0.0057\n",
      "Epoch 26/50\n",
      "6/6 [==============================] - 1s 177ms/step - loss: 0.0066\n",
      "Epoch 27/50\n",
      "6/6 [==============================] - 1s 193ms/step - loss: 0.0053\n",
      "Epoch 28/50\n",
      "6/6 [==============================] - 1s 190ms/step - loss: 0.0061\n",
      "Epoch 29/50\n",
      "6/6 [==============================] - 1s 180ms/step - loss: 0.0056\n",
      "Epoch 30/50\n",
      "6/6 [==============================] - 1s 197ms/step - loss: 0.0045\n",
      "Epoch 31/50\n",
      "6/6 [==============================] - 1s 197ms/step - loss: 0.0054\n",
      "Epoch 32/50\n",
      "6/6 [==============================] - 1s 193ms/step - loss: 0.0050\n",
      "Epoch 33/50\n",
      "6/6 [==============================] - 1s 202ms/step - loss: 0.0046\n",
      "Epoch 34/50\n",
      "6/6 [==============================] - 1s 178ms/step - loss: 0.0057\n",
      "Epoch 35/50\n",
      "6/6 [==============================] - 1s 195ms/step - loss: 0.0056\n",
      "Epoch 36/50\n",
      "6/6 [==============================] - 1s 189ms/step - loss: 0.0052\n",
      "Epoch 37/50\n",
      "6/6 [==============================] - 1s 174ms/step - loss: 0.0047\n",
      "Epoch 38/50\n",
      "6/6 [==============================] - 1s 193ms/step - loss: 0.0043\n",
      "Epoch 39/50\n",
      "6/6 [==============================] - 1s 200ms/step - loss: 0.0055\n",
      "Epoch 40/50\n",
      "6/6 [==============================] - 1s 193ms/step - loss: 0.0047\n",
      "Epoch 41/50\n",
      "6/6 [==============================] - 1s 187ms/step - loss: 0.0039\n",
      "Epoch 42/50\n",
      "6/6 [==============================] - 1s 189ms/step - loss: 0.0041\n",
      "Epoch 43/50\n",
      "6/6 [==============================] - 1s 199ms/step - loss: 0.0049\n",
      "Epoch 44/50\n",
      "6/6 [==============================] - 1s 203ms/step - loss: 0.0045\n",
      "Epoch 45/50\n",
      "6/6 [==============================] - 1s 175ms/step - loss: 0.0047\n",
      "Epoch 46/50\n",
      "6/6 [==============================] - 1s 185ms/step - loss: 0.0043\n",
      "Epoch 47/50\n",
      "6/6 [==============================] - 1s 182ms/step - loss: 0.0043\n",
      "Epoch 48/50\n",
      "6/6 [==============================] - 1s 184ms/step - loss: 0.0044\n",
      "Epoch 49/50\n",
      "6/6 [==============================] - 1s 200ms/step - loss: 0.0045\n",
      "Epoch 50/50\n",
      "6/6 [==============================] - 1s 186ms/step - loss: 0.0049\n"
     ]
    },
    {
     "data": {
      "text/plain": [
       "<keras.callbacks.History at 0x141516db940>"
      ]
     },
     "execution_count": 4,
     "metadata": {},
     "output_type": "execute_result"
    }
   ],
   "source": [
    "regressor.compile(optimizer = 'adam', loss = 'mean_squared_error')\n",
    "regressor.fit(X_train, Y_train, epochs = 50, batch_size = 32)\n"
   ]
  },
  {
   "cell_type": "code",
   "execution_count": 5,
   "id": "8cb913bf",
   "metadata": {
    "scrolled": true
   },
   "outputs": [
    {
     "name": "stdout",
     "output_type": "stream",
     "text": [
      "0      178.085\n",
      "1      179.470\n",
      "2      179.330\n",
      "3      180.160\n",
      "4      177.085\n",
      "        ...   \n",
      "247    132.430\n",
      "248    128.360\n",
      "249    127.720\n",
      "250    128.890\n",
      "251    133.520\n",
      "Name:  Open, Length: 252, dtype: float64\n"
     ]
    }
   ],
   "source": [
    "dataset_test = pd.read_csv(\"AAPL21-22.csv\", header = 0, sep = \",\")\n",
    "print(dataset_test[' Open'])\n",
    "actual_stock_price = dataset_test.iloc[:,1:2].values\n",
    "dataset_total = pd.concat((dataset_train[' Open'], dataset_test[' Open']), axis = 0)\n",
    "inputs = dataset_total[len(dataset_total) - len(dataset_test)-76:].values\n",
    "\n",
    "inputs = inputs.reshape(-1,1)\n",
    "scaler.clip = False  # add this line\n",
    "inputs = scaler.transform(inputs)\n",
    "\n",
    "X_test = []\n",
    "for i in range(76, 252):\n",
    "    X_test.append(inputs[i-76:i, 0])\n",
    "X_test = np.array(X_test)\n",
    "X_test = np.reshape(X_test, (X_test.shape[0], X_test.shape[1], 1))"
   ]
  },
  {
   "cell_type": "code",
   "execution_count": 27,
   "id": "2e276561",
   "metadata": {},
   "outputs": [
    {
     "name": "stdout",
     "output_type": "stream",
     "text": [
      "6/6 [==============================] - 0s 67ms/step\n",
      "[array([133.52]), array([128.89]), array([127.72]), array([128.36]), array([132.43]), array([129.19]), array([128.5]), array([128.76]), array([130.8]), array([128.78]), array([127.78]), array([128.66]), array([133.8]), array([136.28]), array([143.07]), array([143.6]), array([143.43]), array([139.52]), array([135.83]), array([133.75]), array([135.73]), array([135.76]), array([136.3]), array([137.35]), array([136.03]), array([136.62]), array([136.48]), array([135.9]), array([134.35]), array([135.49]), array([131.25]), array([129.2]), array([130.24]), array([128.01]), array([123.76]), array([124.94]), array([124.68]), array([122.59]), array([123.75]), array([128.41]), array([124.81]), array([121.75]), array([120.98]), array([120.93]), array([119.03]), array([121.69]), array([122.54]), array([120.4]), array([121.41]), array([125.7]), array([124.05]), array([122.88]), array([119.9]), array([120.33]), array([123.33]), array([122.82]), array([119.54]), array([120.35]), array([121.65]), array([120.11]), array([121.65]), array([123.66]), array([123.87]), array([126.5]), array([125.83]), array([128.95]), array([129.8]), array([132.52]), array([132.44]), array([134.94]), array([133.82]), array([134.3]), array([133.51]), array([135.02]), array([132.36]), array([133.04]), array([132.16]), array([134.83]), array([135.01]), array([134.31]), array([136.47]), array([131.78]), array([132.04]), array([131.19]), array([129.2]), array([127.89]), array([130.85]), array([129.41]), array([123.5]), array([123.4]), array([124.58]), array([126.25]), array([126.82]), array([126.56]), array([123.16]), array([125.23]), array([127.82]), array([126.01]), array([127.82]), array([126.955]), array([126.44]), array([125.57]), array([125.08]), array([124.28]), array([124.68]), array([124.07]), array([126.17]), array([126.6]), array([127.21]), array([127.02]), array([126.53]), array([127.82]), array([129.94]), array([130.37]), array([129.8]), array([130.71]), array([130.3]), array([132.13]), array([133.77]), array([134.45]), array([133.46]), array([133.41]), array([134.8]), array([136.17]), array([136.6]), array([137.9]), array([140.07]), array([143.535]), array([141.58]), array([142.75]), array([146.21]), array([144.03]), array([148.1]), array([149.24]), array([148.46]), array([143.75]), array([143.46]), array([145.53]), array([145.935]), array([147.55]), array([148.27]), array([149.12]), array([144.81]), array([144.685]), array([144.38]), array([146.36]), array([145.81]), array([147.27]), array([146.98]), array([146.35]), array([146.2]), array([146.44]), array([146.05]), array([146.19]), array([148.97]), array([148.535]), array([150.23]), array([149.8]), array([145.03]), array([147.44]), array([148.31]), array([149.45]), array([149.81]), array([148.35]), array([147.48]), array([149.]), array([152.66]), array([152.83]), array([153.87]), array([153.76]), array([154.97]), array([156.98]), array([155.49]), array([155.]), array([150.63]), array([150.35]), array([148.56]), array([148.44]), array([148.82]), array([143.8]), array([143.93]), array([144.45]), array([146.65]), array([145.66]), array([145.47]), array([143.25]), array([142.47]), array([143.66]), array([141.9]), array([141.76]), array([139.49]), array([139.47]), array([143.06]), array([144.03]), array([142.27]), array([143.23]), array([141.235]), array([142.11]), array([143.77]), array([143.445]), array([147.01]), array([148.7]), array([148.81]), array([149.69]), array([148.68]), array([149.33]), array([149.36]), array([149.82]), array([147.215]), array([148.985]), array([148.66]), array([150.39]), array([151.58]), array([151.89]), array([151.41]), array([150.2]), array([150.02]), array([148.96]), array([148.43]), array([150.37]), array([149.94]), array([150.995]), array([153.71]), array([157.65]), array([161.68]), array([161.12]), array([160.75]), array([159.565]), array([159.37]), array([159.985]), array([167.48]), array([158.735]), array([164.02]), array([164.29]), array([169.08]), array([172.125]), array([174.91]), array([175.205]), array([181.115]), array([175.25]), array([175.11]), array([179.28])]\n"
     ]
    }
   ],
   "source": [
    "predicted_stock_price = regressor.predict(X_test)\n",
    "predicted_stock_price = scaler.inverse_transform(predicted_stock_price)\n",
    "reverse_prediction = []\n",
    "reverse_actual = []\n",
    "for i in predicted_stock_price[::-1]:\n",
    "    reverse_prediction.append(i)\n",
    "for i in range(76):\n",
    "    reverse_prediction.insert(0,125)\n",
    "for x in actual_stock_price[::-1]:\n",
    "    reverse_actual.append(x)\n",
    "for i in range(10):\n",
    "    reverse_prediction.pop()\n",
    "    reverse_actual.pop()\n",
    "print(reverse_actual)"
   ]
  },
  {
   "cell_type": "code",
   "execution_count": 28,
   "id": "13eb3f79",
   "metadata": {},
   "outputs": [
    {
     "name": "stderr",
     "output_type": "stream",
     "text": [
      "C:\\Program Files\\Python38\\lib\\site-packages\\numpy\\core\\shape_base.py:65: VisibleDeprecationWarning: Creating an ndarray from ragged nested sequences (which is a list-or-tuple of lists-or-tuples-or ndarrays with different lengths or shapes) is deprecated. If you meant to do this, you must specify 'dtype=object' when creating the ndarray.\n",
      "  ary = asanyarray(ary)\n"
     ]
    },
    {
     "data": {
      "text/plain": [
       "<matplotlib.legend.Legend at 0x14161106e20>"
      ]
     },
     "execution_count": 28,
     "metadata": {},
     "output_type": "execute_result"
    },
    {
     "data": {
      "image/png": "[encoded data removed]",
      "text/plain": [
       "<Figure size 640x480 with 1 Axes>"
      ]
     },
     "metadata": {},
     "output_type": "display_data"
    }
   ],
   "source": [
    "plt.plot(reverse_actual, color = 'red', label = 'Actual AAPL Stock Price')\n",
    "plt.plot(reverse_prediction, color = 'blue', label = 'Predicted AAPL Stock Price')\n",
    "plt.title('AAPL Stock Price Prediction')\n",
    "plt.xlabel('Time')\n",
    "plt.ylabel('AAPL Stock Price')\n",
    "plt.legend()"
   ]
  },
  {
   "cell_type": "code",
   "execution_count": null,
   "id": "f8c86397",
   "metadata": {},
   "outputs": [],
   "source": []
  },
  {
   "cell_type": "code",
   "execution_count": null,
   "id": "9688a02c",
   "metadata": {},
   "outputs": [],
   "source": []
  }
 ],
 "metadata": {
  "kernelspec": {
   "display_name": "Python 3 (ipykernel)",
   "language": "python",
   "name": "python3"
  },
  "language_info": {
   "codemirror_mode": {
    "name": "ipython",
    "version": 3
   },
   "file_extension": ".py",
   "mimetype": "text/x-python",
   "name": "python",
   "nbconvert_exporter": "python",
   "pygments_lexer": "ipython3",
   "version": "3.8.5"
  }
 },
 "nbformat": 4,
 "nbformat_minor": 5
}
